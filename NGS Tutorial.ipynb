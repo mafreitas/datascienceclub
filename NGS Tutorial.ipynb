{
 "cells": [
  {
   "cell_type": "markdown",
   "metadata": {},
   "source": [
    "Adapted from\n",
    "https://wurmlab.github.io/genomicscourse/2016-SIB/practicals/rnaseq/TP1"
   ]
  },
  {
   "cell_type": "code",
   "execution_count": 1,
   "metadata": {
    "collapsed": true
   },
   "outputs": [],
   "source": [
    "!module load fastx"
   ]
  },
  {
   "cell_type": "markdown",
   "metadata": {},
   "source": [
    "The biological question and the experiment\n",
    "You will be reanalyzing RNA-seq data generated in the lab of Bart Deplancke, published last year in the following paper:\n",
    "\n",
    "Bou Sleiman MS, Osman D, Massouras A, Hoffmann AA, Lemaitre B and Deplancke B. Genetic, molecular and physiological basis of variation in Drosophila gut immunocompetence. Nature Communications. 2015;6:7829 (http://www.nature.com/ncomms/2015/150727/ncomms8829/full/ncomms8829.html). A PDF of the paper and the supplementary data are located in the ~/data/papers/ folder (ncomms8829* files).\n",
    "\n",
    "They performed RNA-seq on 16 gut samples comprising four susceptible and four resistant DGRP lines (the Drosophila Genetic Reference Panel lines are inbred strains derived from a single outbred population from Raleigh, USA) in the unchallenged condition and 4h after Pseudomonas entomophila infection."
   ]
  },
  {
   "cell_type": "markdown",
   "metadata": {},
   "source": [
    "The RNA-seq data are deposited on the GEO database at the following link: http://www.ncbi.nlm.nih.gov/geo/query/acc.cgi?acc=GSE59411. If your are not familiar with GEO, please have a look the experiment and samples webpages. In particular, these include links to the raw sequencing data, the processed sequencing data in form of log2(RPKM) values for each gene in each sample (but this is not compulsory for submission), and some metadata allowing to know what experimental conditions the samples correspond to, the protocols used, etc. The GEO page links to the FTP of the SRA database, where you can download the raw data in the .sra format. These can be converted to .fastq format using the SRA toolkit suite.\n",
    "\n",
    "All GEO experiments are also mirrored in european equivalent, the ENA database (see http://www.ebi.ac.uk/ena/data/view/SRP044339 for our experiment). \n",
    "\n",
    "Download the D. melanogaster reference genome from the database Ensembl: http://www.ensembl.org/index.html. To be sure to understand which version is needed, it is a good practice to look at the README.txt files located in folders of the Ensembl FTP. I usually recommned to use the soft-masked version, which indicates the repeated elements, while retaining the sequence information.\n",
    "\n",
    "To do\n",
    "Download also the D. melanogaster annotation in GTF format from Ensembl (do not download the \"ab initio\" file). Open the downloaded file:"
   ]
  },
  {
   "cell_type": "markdown",
   "metadata": {},
   "source": [
    "The following script will download a file if it does not exist in the current working directory.\n",
    "\n",
    "You will need to delete any files that were partially downloaded before running the script."
   ]
  },
  {
   "cell_type": "code",
   "execution_count": 4,
   "metadata": {
    "collapsed": false,
    "scrolled": false
   },
   "outputs": [
    {
     "name": "stdout",
     "output_type": "stream",
     "text": [
      "--2017-11-08 10:59:33--  ftp://ftp.sra.ebi.ac.uk/vol1/fastq/SRR151/009/SRR1515119/SRR1515119.fastq.gz\n",
      "           => ‘SRR1515119.fastq.gz’\n",
      "Resolving ftp.sra.ebi.ac.uk (ftp.sra.ebi.ac.uk)... 193.62.192.7\n",
      "Connecting to ftp.sra.ebi.ac.uk (ftp.sra.ebi.ac.uk)|193.62.192.7|:21... connected.\n",
      "Logging in as anonymous ... Logged in!\n",
      "==> SYST ... done.    ==> PWD ... done.\n",
      "==> TYPE I ... done.  ==> CWD (1) /vol1/fastq/SRR151/009/SRR1515119 ... done.\n",
      "==> SIZE SRR1515119.fastq.gz ... 1617866359\n",
      "==> PASV ... done.    ==> RETR SRR1515119.fastq.gz ... done.\n",
      "Length: 1617866359 (1.5G) (unauthoritative)\n",
      "\n",
      "100%[====================================>] 1,617,866,359 24.3MB/s   in 66s    \n",
      "\n",
      "2017-11-08 11:00:44 (23.5 MB/s) - ‘SRR1515119.fastq.gz’ saved [1617866359]\n",
      "\n"
     ]
    }
   ],
   "source": [
    "#import the os package.  This should be installed by default with python\n",
    "import os\n",
    "\n",
    "URLS = [\n",
    "'ftp://ftp.sra.ebi.ac.uk/vol1/fastq/SRR151/004/SRR1515104/SRR1515104.fastq.gz',\n",
    "'ftp://ftp.sra.ebi.ac.uk/vol1/fastq/SRR151/005/SRR1515105/SRR1515105.fastq.gz',\n",
    "'ftp://ftp.sra.ebi.ac.uk/vol1/fastq/SRR151/006/SRR1515106/SRR1515106.fastq.gz',\n",
    "'ftp://ftp.sra.ebi.ac.uk/vol1/fastq/SRR151/007/SRR1515107/SRR1515107.fastq.gz',\n",
    "'ftp://ftp.sra.ebi.ac.uk/vol1/fastq/SRR151/008/SRR1515108/SRR1515108.fastq.gz',\n",
    "'ftp://ftp.sra.ebi.ac.uk/vol1/fastq/SRR151/009/SRR1515109/SRR1515109.fastq.gz',\n",
    "'ftp://ftp.sra.ebi.ac.uk/vol1/fastq/SRR151/000/SRR1515110/SRR1515110.fastq.gz',\n",
    "'ftp://ftp.sra.ebi.ac.uk/vol1/fastq/SRR151/001/SRR1515111/SRR1515111.fastq.gz',\n",
    "'ftp://ftp.sra.ebi.ac.uk/vol1/fastq/SRR151/002/SRR1515112/SRR1515112.fastq.gz',\n",
    "'ftp://ftp.sra.ebi.ac.uk/vol1/fastq/SRR151/003/SRR1515113/SRR1515113.fastq.gz',\n",
    "'ftp://ftp.sra.ebi.ac.uk/vol1/fastq/SRR151/004/SRR1515114/SRR1515114.fastq.gz',\n",
    "'ftp://ftp.sra.ebi.ac.uk/vol1/fastq/SRR151/005/SRR1515115/SRR1515115.fastq.gz',\n",
    "'ftp://ftp.sra.ebi.ac.uk/vol1/fastq/SRR151/006/SRR1515116/SRR1515116.fastq.gz',\n",
    "'ftp://ftp.sra.ebi.ac.uk/vol1/fastq/SRR151/007/SRR1515117/SRR1515117.fastq.gz',\n",
    "'ftp://ftp.sra.ebi.ac.uk/vol1/fastq/SRR151/008/SRR1515118/SRR1515118.fastq.gz',\n",
    "'ftp://ftp.sra.ebi.ac.uk/vol1/fastq/SRR151/009/SRR1515119/SRR1515119.fastq.gz',\n",
    "'ftp://ftp.ensembl.org/pub/release-90/fasta/drosophila_melanogaster/dna/Drosophila_melanogaster.BDGP6.dna_sm.toplevel.fa.gz',\n",
    "'ftp://ftp.ensembl.org/pub/release-90/gtf/drosophila_melanogaster/Drosophila_melanogaster.BDGP6.90.gtf.gz'\n",
    "]\n",
    "# Get Each file in the above list.\n",
    "for url in URLS:\n",
    "\n",
    "    # Split on the rightmost / and take everything on the right side of that\n",
    "    name = url.rsplit('/', 1)[-1]\n",
    "\n",
    "    # Download the file if it does not exist\n",
    "    if not os.path.isfile(name):\n",
    "        !wget $url"
   ]
  },
  {
   "cell_type": "markdown",
   "metadata": {},
   "source": [
    "It is essential to verify that the quality of the reads you will analyze is acceptable, and that there was no major issue during the sequencing run. Run the FastQC tool on the .fastq file and open the report."
   ]
  },
  {
   "cell_type": "code",
   "execution_count": 1,
   "metadata": {
    "collapsed": false
   },
   "outputs": [],
   "source": [
    "!module load fastx && gunzip -c /fs/project/PAS1307/NGS/SRR1515112.fastq.gz | fastx_quality_stats -o SRR1515112.fastq.txt"
   ]
  },
  {
   "cell_type": "code",
   "execution_count": 5,
   "metadata": {
    "collapsed": false
   },
   "outputs": [
    {
     "name": "stdout",
     "output_type": "stream",
     "text": [
      "column\tcount\tmin\tmax\tsum\tmean\tQ1\tmed\tQ3\tIQR\tlW\trW\tA_Count\tC_Count\tG_Count\tT_Count\tN_Count\tMax_count\r\n",
      "1\t28828920\t2\t34\t904410544\t31.37\t31\t34\t34\t3\t27\t34\t3632022\t14153208\t7567823\t3372751\t103116\t28828920\r\n",
      "2\t28828920\t2\t34\t906708760\t31.45\t31\t34\t34\t3\t27\t34\t5620620\t5916445\t7748037\t9543818\t0\t28828920\r\n",
      "3\t28828920\t2\t34\t882304070\t30.60\t31\t34\t34\t3\t27\t34\t7070589\t7973962\t7322576\t6460946\t847\t28828920\r\n",
      "4\t28828920\t2\t37\t1000839597\t34.72\t35\t37\t37\t2\t32\t37\t8332985\t7187748\t8356806\t4950274\t1107\t28828920\r\n",
      "5\t28828920\t2\t37\t1001332377\t34.73\t35\t37\t37\t2\t32\t37\t9110925\t5638522\t8359835\t5719614\t24\t28828920\r\n",
      "6\t28828920\t2\t37\t1002276659\t34.77\t35\t37\t37\t2\t32\t37\t9948487\t6311479\t6293252\t6275685\t17\t28828920\r\n",
      "7\t28828920\t2\t37\t1003323947\t34.80\t35\t37\t37\t2\t32\t37\t4494504\t7053872\t5922704\t11357840\t0\t28828920\r\n",
      "8\t28828920\t2\t37\t1002778076\t34.78\t35\t37\t37\t2\t32\t37\t5894220\t8701341\t6407053\t7826306\t0\t28828920\r\n",
      "9\t28828920\t2\t39\t1051083372\t36.46\t37\t39\t39\t2\t34\t39\t5567919\t7867157\t6818722\t8575115\t7\t28828920\r\n"
     ]
    }
   ],
   "source": [
    "!head SRR1515112.fastq.txt"
   ]
  },
  {
   "cell_type": "code",
   "execution_count": 6,
   "metadata": {
    "collapsed": true
   },
   "outputs": [],
   "source": [
    "!module load fastx && fastq_quality_boxplot_graph.sh -i SRR1515112.fastq.txt -o SRR1515112_boxplot.png -t SRR1515112\n",
    "!module load fastx && fastx_nucleotide_distribution_graph.sh -i SRR1515112.fastq.txt -o SRR1515112_nuc_dist.png -t SRR1515112"
   ]
  },
  {
   "cell_type": "markdown",
   "metadata": {},
   "source": [
    "# Quality Boxplot\n",
    "![boxplot](SRR1515112_boxplot.png)"
   ]
  },
  {
   "cell_type": "markdown",
   "metadata": {},
   "source": [
    "# Nucleotide Distribution\n",
    "![nucleotide Distribtuion](SRR1515112_nuc_dist.png)"
   ]
  },
  {
   "cell_type": "code",
   "execution_count": null,
   "metadata": {
    "collapsed": false
   },
   "outputs": [],
   "source": [
    "FASTQFILE = [\n",
    "'SRR1515104.fastq.gz', #\n",
    "'SRR1515105.fastq.gz', # Sasha\n",
    "'SRR1515106.fastq.gz', # Luda\n",
    "'SRR1515107.fastq.gz', # Alex\n",
    "'SRR1515108.fastq.gz', # Chuck\n",
    "'SRR1515109.fastq.gz', # Jikang\n",
    "'SRR1515110.fastq.gz', # Jeff\n",
    "'SRR1515111.fastq.gz', # Sara\n",
    "'SRR1515112.fastq.gz', # Mike\n",
    "'SRR1515113.fastq.gz',\n",
    "'SRR1515114.fastq.gz',\n",
    "'SRR1515115.fastq.gz',\n",
    "'SRR1515116.fastq.gz',\n",
    "'SRR1515117.fastq.gz',\n",
    "'SRR1515118.fastq.gz'\n",
    "]\n",
    "\n",
    "for fastqfile in FASTQFILE:\n",
    "    !module load fastx && gunzip -c $fastqfile | fastx_quality_stats -o $fastqfile.txt\n",
    "    !module load fastx && fastq_quality_boxplot_graph.sh -i $fastqfile.txt -o $fastqfile.png -t $fastqfile\n",
    "    !module load fastx && fastx_nucleotide_distribution_graph.sh -i $fastqfile.txt -o $fastqfile.png -t $fastqfile"
   ]
  },
  {
   "cell_type": "markdown",
   "metadata": {},
   "source": [
    "![stats](stats.png)"
   ]
  },
  {
   "cell_type": "markdown",
   "metadata": {},
   "source": [
    "Identify the lines describing the first multi-exonic gene that you find in the GTF file. What are the different features annotated for this gene? Is there any sequence information in this file?\n",
    "\n",
    "A transcriptome index for Kallisto pseudo-mapping\n",
    "\n",
    "You will assign reads to transcript using the tool Kallisto (see below). This requires the transcript sequences to be extracted, and then indexed.\n",
    "\n",
    "To do\n",
    "Using the GTF and genome files, create a fasta file including the sequences of all annotated transcripts. This can be done with the gffread utility part of the Cufflinks package:\n",
    "\n",
    "gunzip ~/data/rnaseq/[genome .fa.gz file]\n",
    "gffread ~/data/rnaseq/[.gtf file] \n",
    "  -g ~/data/rnaseq/[genome .fa file] \n",
    "  -w ~/2016-06-01-rnaseq/results/[output transcripts .fa file]"
   ]
  },
  {
   "cell_type": "code",
   "execution_count": 2,
   "metadata": {
    "collapsed": false
   },
   "outputs": [
    {
     "name": "stdout",
     "output_type": "stream",
     "text": [
      "No fasta index found for /fs/project/PAS1307/NGS/Drosophila_melanogaster.BDGP6.dna_sm.toplevel.fa. Rebuilding, please wait..\n",
      "Fasta index rebuilt.\n"
     ]
    }
   ],
   "source": [
    "!module load cufflinks && gffread /fs/project/PAS1307/NGS/Drosophila_melanogaster.BDGP6.90.gtf -g /fs/project/PAS1307/NGS/Drosophila_melanogaster.BDGP6.dna_sm.toplevel.fa -w Drosophila_melanogaster_transcripts.fa\n",
    "\n"
   ]
  },
  {
   "cell_type": "markdown",
   "metadata": {},
   "source": [
    "To do\n",
    "Launch the creation of the Kallisto index. The online documentation is available at https://pachterlab.github.io/kallisto/manual.html.\n",
    "\n",
    "kallisto index \n",
    "  -i ~/2016-06-01-rnaseq/results/[output index file] \n",
    "  ~/2016-06-01-rnaseq/results/[output transcripts .fa file]"
   ]
  },
  {
   "cell_type": "code",
   "execution_count": 3,
   "metadata": {
    "collapsed": false
   },
   "outputs": [
    {
     "name": "stdout",
     "output_type": "stream",
     "text": [
      "\n",
      "[build] loading fasta file Drosophila_melanogaster_transcripts.fa\n",
      "[build] k-mer length: 31\n",
      "[build] warning: clipped off poly-A tail (longer than 10)\n",
      "        from 9 target sequences\n",
      "[build] warning: replaced 1 non-ACGUT characters in the input sequence\n",
      "        with pseudorandom nucleotides\n",
      "[build] counting k-mers ... done.\n",
      "[build] building target de Bruijn graph ...  done \n",
      "[build] creating equivalence classes ...  done\n",
      "[build] target de Bruijn graph has 79906 contigs and contains 35010437 k-mers \n",
      "\n"
     ]
    }
   ],
   "source": [
    "!module load kallisto && kallisto index -i Drosophila_melanogaster_kalilisto_index Drosophila_melanogaster_transcripts.fa"
   ]
  },
  {
   "cell_type": "markdown",
   "metadata": {
    "collapsed": true
   },
   "source": [
    "\n",
    "https://github.com/griffithlab/rnaseq_tutorial\n",
    "\n",
    "Question\n",
    "Is the default k-mer size appropriate? In which case would it be useful to reduce it?\n",
    "\n",
    "\"Mapping\" the data\n",
    "To quantify the abundances of genes, traditional pipelines were aligning reads to transcriptome/genome and counting how many reads were overlapping each gene (e.g., BWA, Bowtie, Tophat, STAR tools). This is conceptually simple, but it is slow (a seed match needs to be extended), and it leaves the user with a lot of arbitrary choices to make: for example, how many mismatches to allow? What to do with reads mapping to multiple features? New approaches to this problem have recenty emerged with the pseudo-alignement concept (you will use the Kallisto software, but a very similar approach is used in the Salmon software). First, reads are split into k-mers. Second, the k-mers are mapped to the indexed transcriptome (since only perfect match of short sequences is tested, this is done very fast using a hash table). Finally, the individual transcripts are quantified using a probabilistic model, based on their compatibility with the k-mers found in the reads. This procedure is very fast (can be run on your laptop!), does not generate huge intermediate SAM/BAM files, and according the first tests, is yielding results that are at least as accurate as traditional pipelines.\n",
    "\n",
    "Question\n",
    "What are the relevant parameters to consider when launching Kallisto?\n",
    "\n",
    "For single-end data, the fragment length and standard deviation cannot be estimated directly from the data. The user needs to supply it (beware, fragment length is not read length, see https://groups.google.com/forum/#!topic/kallisto-sleuth-users/h5LeAlWS33w). This information has to be read from the Bioanalyzer/Fragment Analyzer results on the prepared RNA-seq libraries. For this practical, in the absence of this information, you will use length=200bp and sd=30, which should be close enough to real values.\n",
    "\n",
    "To do\n",
    "You will now perform the pseudo-alignement with Kallisto:\n",
    "\n",
    "kallisto quant \n",
    "  -i ~/2016-06-01-rnaseq/results/[index file] [Kallisto options] \n",
    "  -o ~/2016-06-01-rnaseq/results/[output directory for Kallisto results]\n",
    "  ~/data/rnaseq/SRR1515119_1M.fastq.gz\n",
    "Tip\n",
    "Tip: the --bias option allows to correct for some of the (strong) sequence-specific systematic biases of the Illumina protocol. In practice, the correction is not applied to the estimated counts, but to the effective length of the transcripts. This has no biological meaning, but will result in sequence-bias corrected TPM estimates.\n",
    "\n",
    "This should take a few minutes. Have a look at the result files produced by Kallisto, especially the abundance.tsv file.\n",
    "\n",
    "Question\n",
    "What are the rows and columns? What is the \"tpm\" acronym standing for? How is it calculated? What is the difference with the widely used RPKM/FPKM? Why is it more consistent to use TPMs instead of FPKMs as expression unit? This blog post can be useful https://haroldpimentel.wordpress.com/2014/05/08/what-the-fpkm-a-review-rna-seq-expression-units/.\n",
    "\n",
    "To do\n",
    "Import the result file into R and sort the transcripts by abundance.\n",
    "\n",
    "Question\n",
    "What are the most highly expressed transcripts in this sample? Does it make sense given that this is a gut sample?\n",
    "\n",
    "Bonus\n",
    "If you have time, motivation, enough disk space on your laptop, and want to use your own result files in tomorrow's practicals (:thumbsup:), try to run Kallisto on the full dataset of the experiment. This will be a bit long, but it can be left running in your hotel room while you are having fun in the pool tonight. Otherwise, it may be useful some day, after the course.\n",
    "\n",
    "## First, create a directory for the raw data\n",
    "mkdir ~/2016-06-01-rnaseq/data/FASTQ\n",
    "cd ~/2016-06-01-rnaseq/data/FASTQ\n",
    "\n",
    "## Second (if the wifi connection is good), download the fastq files from ENA. \n",
    "## The links to the files are listed as a column in the SRP044339.txt file. \n",
    "tail -n+2  ~/data/rnaseq/SRP044339.txt | awk -F'\\t' '{print \"ftp://\" $11;}' | xargs -l1 wget\n",
    "## Alternatively, I will have the data available on a hard drive.\n",
    "## Finally, launch Kallisto on each sample\n",
    "for i in *.fastq.gz; do echo $i; \n",
    "  kallisto quant \n",
    "    -i ~/2016-06-01-rnaseq/results/[index file] [Kallisto options] \n",
    "    -o ~/2016-06-01-rnaseq/results/kallisto/${i%%.*} \n",
    "    $i; \n",
    "done\n",
    "Icons taken from http://www.flaticon.com/\n",
    "\n",
    "Thanks to Amina Echchiki for proofreading and testing\n",
    "\n",
    "Copyright 2016 Authors. All rights reserverd."
   ]
  },
  {
   "cell_type": "code",
   "execution_count": 2,
   "metadata": {
    "collapsed": false
   },
   "outputs": [
    {
     "name": "stdout",
     "output_type": "stream",
     "text": [
      "Drosophila_melanogaster.BDGP6.dna_sm.toplevel.fa.gz  SRR1515107.fastq.gz\r\n",
      "SRR1515104.fastq.gz\t\t\t\t     SRR1515108.fastq.gz\r\n",
      "SRR1515105.fastq.gz\t\t\t\t     SRR1515109.fastq.gz\r\n",
      "SRR1515106.fastq.gz\t\t\t\t     Untitled.ipynb\r\n"
     ]
    }
   ],
   "source": [
    "!ls /fs/project/PAS1307/NGS"
   ]
  },
  {
   "cell_type": "code",
   "execution_count": null,
   "metadata": {
    "collapsed": true
   },
   "outputs": [],
   "source": []
  }
 ],
 "metadata": {
  "kernelspec": {
   "display_name": "Python [conda env:datasci]",
   "language": "python",
   "name": "conda-env-datasci-py"
  },
  "language_info": {
   "codemirror_mode": {
    "name": "ipython",
    "version": 3
   },
   "file_extension": ".py",
   "mimetype": "text/x-python",
   "name": "python",
   "nbconvert_exporter": "python",
   "pygments_lexer": "ipython3",
   "version": "3.6.2"
  }
 },
 "nbformat": 4,
 "nbformat_minor": 2
}
